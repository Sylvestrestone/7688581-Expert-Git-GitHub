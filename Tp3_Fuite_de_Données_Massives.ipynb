{
  "nbformat": 4,
  "nbformat_minor": 0,
  "metadata": {
    "colab": {
      "provenance": [],
      "authorship_tag": "ABX9TyOHVZX+6Wn6H3HGcWEwCcTK"
    },
    "kernelspec": {
      "name": "python3",
      "display_name": "Python 3"
    },
    "language_info": {
      "name": "python"
    }
  },
  "cells": [
    {
      "cell_type": "markdown",
      "source": [
        "# TP3: Détection et prévention des fuites de données"
      ],
      "metadata": {
        "id": "ZfF78ZN13Pco"
      }
    },
    {
      "cell_type": "markdown",
      "source": [
        "***Objectif***:\n",
        "Ce TP vise à comprendre les fuites de données massives, et comment les détecter et les prévenir grâce aux techniques d’analyse de logs et de Machine Learning.\n"
      ],
      "metadata": {
        "id": "mEs_01L_L-XR"
      }
    },
    {
      "cell_type": "markdown",
      "source": [
        "# 1. Chargement et visualisation"
      ],
      "metadata": {
        "id": "qc3gO1FO3J24"
      }
    },
    {
      "cell_type": "code",
      "execution_count": 1,
      "metadata": {
        "id": "IfMPK3732TPn"
      },
      "outputs": [],
      "source": [
        "import pandas as pd\n",
        "import matplotlib.pyplot as plt\n",
        "import seaborn as sns\n",
        "from sklearn.model_selection import train_test_split\n",
        "from sklearn.preprocessing import StandardScaler, LabelEncoder\n",
        "from sklearn.svm import SVC\n",
        "from sklearn.metrics import classification_report, confusion_matrix, ConfusionMatrixDisplay"
      ]
    },
    {
      "cell_type": "markdown",
      "source": [
        "Charger le dataset (ajuster le chemin)"
      ],
      "metadata": {
        "id": "lukhL6DL3lAP"
      }
    },
    {
      "cell_type": "code",
      "source": [
        "train_df = pd.read_csv(\"/content/UNSW_NB15_training-set.csv\")\n",
        "test_df = pd.read_csv(\"/content/UNSW_NB15_testing-set.csv\")"
      ],
      "metadata": {
        "id": "kd8HPL-z3hu4"
      },
      "execution_count": 4,
      "outputs": []
    },
    {
      "cell_type": "markdown",
      "source": [
        "Aperçu des données"
      ],
      "metadata": {
        "id": "qC9qlgRQ5sXe"
      }
    },
    {
      "cell_type": "code",
      "source": [
        "print(train_df.head()) # Changed 'df' to 'train_df' to display the head of the training dataset.\n",
        "print(train_df.describe()) # Changed 'df' to 'train_df' to display descriptive statistics of the training dataset.\n",
        "# Alternatively, you could use 'test_df' if you want to inspect the test dataset."
      ],
      "metadata": {
        "colab": {
          "base_uri": "https://localhost:8080/"
        },
        "id": "Cmcksk5y5_Ar",
        "outputId": "9504cb13-f725-4ae2-e22d-9583d8fa17de"
      },
      "execution_count": 6,
      "outputs": [
        {
          "output_type": "stream",
          "name": "stdout",
          "text": [
            "   id       dur proto service state  spkts  dpkts  sbytes  dbytes       rate  \\\n",
            "0   1  0.121478   tcp       -   FIN      6      4     258     172  74.087490   \n",
            "1   2  0.649902   tcp       -   FIN     14     38     734   42014  78.473372   \n",
            "2   3  1.623129   tcp       -   FIN      8     16     364   13186  14.170161   \n",
            "3   4  1.681642   tcp     ftp   FIN     12     12     628     770  13.677108   \n",
            "4   5  0.449454   tcp       -   FIN     10      6     534     268  33.373826   \n",
            "\n",
            "   ...  ct_dst_sport_ltm  ct_dst_src_ltm  is_ftp_login  ct_ftp_cmd  \\\n",
            "0  ...                 1               1             0           0   \n",
            "1  ...                 1               2             0           0   \n",
            "2  ...                 1               3             0           0   \n",
            "3  ...                 1               3             1           1   \n",
            "4  ...                 1              40             0           0   \n",
            "\n",
            "   ct_flw_http_mthd  ct_src_ltm  ct_srv_dst  is_sm_ips_ports  attack_cat  \\\n",
            "0                 0           1           1                0      Normal   \n",
            "1                 0           1           6                0      Normal   \n",
            "2                 0           2           6                0      Normal   \n",
            "3                 0           2           1                0      Normal   \n",
            "4                 0           2          39                0      Normal   \n",
            "\n",
            "   label  \n",
            "0      0  \n",
            "1      0  \n",
            "2      0  \n",
            "3      0  \n",
            "4      0  \n",
            "\n",
            "[5 rows x 45 columns]\n",
            "                  id            dur          spkts          dpkts  \\\n",
            "count  175341.000000  175341.000000  175341.000000  175341.000000   \n",
            "mean    87671.000000       1.359389      20.298664      18.969591   \n",
            "std     50616.731112       6.480249     136.887597     110.258271   \n",
            "min         1.000000       0.000000       1.000000       0.000000   \n",
            "25%     43836.000000       0.000008       2.000000       0.000000   \n",
            "50%     87671.000000       0.001582       2.000000       2.000000   \n",
            "75%    131506.000000       0.668069      12.000000      10.000000   \n",
            "max    175341.000000      59.999989    9616.000000   10974.000000   \n",
            "\n",
            "             sbytes        dbytes          rate           sttl           dttl  \\\n",
            "count  1.753410e+05  1.753410e+05  1.753410e+05  175341.000000  175341.000000   \n",
            "mean   8.844844e+03  1.492892e+04  9.540619e+04     179.546997      79.609567   \n",
            "std    1.747656e+05  1.436542e+05  1.654010e+05     102.940011     110.506863   \n",
            "min    2.800000e+01  0.000000e+00  0.000000e+00       0.000000       0.000000   \n",
            "25%    1.140000e+02  0.000000e+00  3.278614e+01      62.000000       0.000000   \n",
            "50%    4.300000e+02  1.640000e+02  3.225807e+03     254.000000      29.000000   \n",
            "75%    1.418000e+03  1.102000e+03  1.250000e+05     254.000000     252.000000   \n",
            "max    1.296523e+07  1.465555e+07  1.000000e+06     255.000000     254.000000   \n",
            "\n",
            "              sload  ...  ct_src_dport_ltm  ct_dst_sport_ltm  ct_dst_src_ltm  \\\n",
            "count  1.753410e+05  ...     175341.000000     175341.000000   175341.000000   \n",
            "mean   7.345403e+07  ...          5.383538          4.206255        8.729881   \n",
            "std    1.883574e+08  ...          8.047104          5.783585       10.956186   \n",
            "min    0.000000e+00  ...          1.000000          1.000000        1.000000   \n",
            "25%    1.305334e+04  ...          1.000000          1.000000        1.000000   \n",
            "50%    8.796748e+05  ...          1.000000          1.000000        3.000000   \n",
            "75%    8.888889e+07  ...          5.000000          3.000000       12.000000   \n",
            "max    5.988000e+09  ...         51.000000         46.000000       65.000000   \n",
            "\n",
            "        is_ftp_login     ct_ftp_cmd  ct_flw_http_mthd     ct_src_ltm  \\\n",
            "count  175341.000000  175341.000000     175341.000000  175341.000000   \n",
            "mean        0.014948       0.014948          0.133066       6.955789   \n",
            "std         0.126048       0.126048          0.701208       8.321493   \n",
            "min         0.000000       0.000000          0.000000       1.000000   \n",
            "25%         0.000000       0.000000          0.000000       2.000000   \n",
            "50%         0.000000       0.000000          0.000000       3.000000   \n",
            "75%         0.000000       0.000000          0.000000       9.000000   \n",
            "max         4.000000       4.000000         30.000000      60.000000   \n",
            "\n",
            "          ct_srv_dst  is_sm_ips_ports          label  \n",
            "count  175341.000000    175341.000000  175341.000000  \n",
            "mean        9.100758         0.015752       0.680622  \n",
            "std        10.756952         0.124516       0.466237  \n",
            "min         1.000000         0.000000       0.000000  \n",
            "25%         2.000000         0.000000       0.000000  \n",
            "50%         4.000000         0.000000       1.000000  \n",
            "75%        12.000000         0.000000       1.000000  \n",
            "max        62.000000         1.000000       1.000000  \n",
            "\n",
            "[8 rows x 41 columns]\n"
          ]
        }
      ]
    },
    {
      "cell_type": "code",
      "source": [
        "# Aperçu des datasets\n",
        "print(\"Training Data:\")\n",
        "print(train_df.head())\n",
        "print(train_df.info())"
      ],
      "metadata": {
        "colab": {
          "base_uri": "https://localhost:8080/"
        },
        "id": "mpjFqLZ66N98",
        "outputId": "734286ce-5db7-482d-d49f-55a3fffdf24f"
      },
      "execution_count": 9,
      "outputs": [
        {
          "output_type": "stream",
          "name": "stdout",
          "text": [
            "Training Data:\n",
            "   id       dur proto service state  spkts  dpkts  sbytes  dbytes       rate  \\\n",
            "0   1  0.121478   tcp       -   FIN      6      4     258     172  74.087490   \n",
            "1   2  0.649902   tcp       -   FIN     14     38     734   42014  78.473372   \n",
            "2   3  1.623129   tcp       -   FIN      8     16     364   13186  14.170161   \n",
            "3   4  1.681642   tcp     ftp   FIN     12     12     628     770  13.677108   \n",
            "4   5  0.449454   tcp       -   FIN     10      6     534     268  33.373826   \n",
            "\n",
            "   ...  ct_dst_sport_ltm  ct_dst_src_ltm  is_ftp_login  ct_ftp_cmd  \\\n",
            "0  ...                 1               1             0           0   \n",
            "1  ...                 1               2             0           0   \n",
            "2  ...                 1               3             0           0   \n",
            "3  ...                 1               3             1           1   \n",
            "4  ...                 1              40             0           0   \n",
            "\n",
            "   ct_flw_http_mthd  ct_src_ltm  ct_srv_dst  is_sm_ips_ports  attack_cat  \\\n",
            "0                 0           1           1                0      Normal   \n",
            "1                 0           1           6                0      Normal   \n",
            "2                 0           2           6                0      Normal   \n",
            "3                 0           2           1                0      Normal   \n",
            "4                 0           2          39                0      Normal   \n",
            "\n",
            "   label  \n",
            "0      0  \n",
            "1      0  \n",
            "2      0  \n",
            "3      0  \n",
            "4      0  \n",
            "\n",
            "[5 rows x 45 columns]\n",
            "<class 'pandas.core.frame.DataFrame'>\n",
            "RangeIndex: 175341 entries, 0 to 175340\n",
            "Data columns (total 45 columns):\n",
            " #   Column             Non-Null Count   Dtype  \n",
            "---  ------             --------------   -----  \n",
            " 0   id                 175341 non-null  int64  \n",
            " 1   dur                175341 non-null  float64\n",
            " 2   proto              175341 non-null  object \n",
            " 3   service            175341 non-null  object \n",
            " 4   state              175341 non-null  object \n",
            " 5   spkts              175341 non-null  int64  \n",
            " 6   dpkts              175341 non-null  int64  \n",
            " 7   sbytes             175341 non-null  int64  \n",
            " 8   dbytes             175341 non-null  int64  \n",
            " 9   rate               175341 non-null  float64\n",
            " 10  sttl               175341 non-null  int64  \n",
            " 11  dttl               175341 non-null  int64  \n",
            " 12  sload              175341 non-null  float64\n",
            " 13  dload              175341 non-null  float64\n",
            " 14  sloss              175341 non-null  int64  \n",
            " 15  dloss              175341 non-null  int64  \n",
            " 16  sinpkt             175341 non-null  float64\n",
            " 17  dinpkt             175341 non-null  float64\n",
            " 18  sjit               175341 non-null  float64\n",
            " 19  djit               175341 non-null  float64\n",
            " 20  swin               175341 non-null  int64  \n",
            " 21  stcpb              175341 non-null  int64  \n",
            " 22  dtcpb              175341 non-null  int64  \n",
            " 23  dwin               175341 non-null  int64  \n",
            " 24  tcprtt             175341 non-null  float64\n",
            " 25  synack             175341 non-null  float64\n",
            " 26  ackdat             175341 non-null  float64\n",
            " 27  smean              175341 non-null  int64  \n",
            " 28  dmean              175341 non-null  int64  \n",
            " 29  trans_depth        175341 non-null  int64  \n",
            " 30  response_body_len  175341 non-null  int64  \n",
            " 31  ct_srv_src         175341 non-null  int64  \n",
            " 32  ct_state_ttl       175341 non-null  int64  \n",
            " 33  ct_dst_ltm         175341 non-null  int64  \n",
            " 34  ct_src_dport_ltm   175341 non-null  int64  \n",
            " 35  ct_dst_sport_ltm   175341 non-null  int64  \n",
            " 36  ct_dst_src_ltm     175341 non-null  int64  \n",
            " 37  is_ftp_login       175341 non-null  int64  \n",
            " 38  ct_ftp_cmd         175341 non-null  int64  \n",
            " 39  ct_flw_http_mthd   175341 non-null  int64  \n",
            " 40  ct_src_ltm         175341 non-null  int64  \n",
            " 41  ct_srv_dst         175341 non-null  int64  \n",
            " 42  is_sm_ips_ports    175341 non-null  int64  \n",
            " 43  attack_cat         175341 non-null  object \n",
            " 44  label              175341 non-null  int64  \n",
            "dtypes: float64(11), int64(30), object(4)\n",
            "memory usage: 60.2+ MB\n",
            "None\n"
          ]
        }
      ]
    },
    {
      "cell_type": "markdown",
      "source": [
        "dtypes: float64(11), int64(30), object(4) :\n",
        "\n",
        "Cela signifie que le dataset contient :\n",
        "\n",
        "11 colonnes au format float64 (valeurs décimales).\n",
        "\n",
        "30 colonnes au format int64 (valeurs entières).\n",
        "\n",
        "4 colonnes au format object (données non numériques comme des chaînes de texte ou des catégories)."
      ],
      "metadata": {
        "id": "MLHwdOwiNMFW"
      }
    },
    {
      "cell_type": "code",
      "source": [
        "print(train_df['label'].value_counts())\n",
        "train_df['label'].value_counts().plot(kind='bar', color=['blue', 'red'])\n",
        "plt.title(\"Distribution des labels\")\n",
        "plt.xlabel(\"Classe\")\n",
        "plt.ylabel(\"Nombre d'exemples\")\n",
        "plt.show()\n"
      ],
      "metadata": {
        "colab": {
          "base_uri": "https://localhost:8080/",
          "height": 536
        },
        "id": "zKqGhhLJMaXe",
        "outputId": "7169cba8-505b-4541-ef8f-0f0978975fec"
      },
      "execution_count": 23,
      "outputs": [
        {
          "output_type": "stream",
          "name": "stdout",
          "text": [
            "label\n",
            "1    119341\n",
            "0     56000\n",
            "Name: count, dtype: int64\n"
          ]
        },
        {
          "output_type": "display_data",
          "data": {
            "text/plain": [
              "<Figure size 640x480 with 1 Axes>"
            ],
            "image/png": "[encoded data removed]"
          },
          "metadata": {}
        }
      ]
    },
    {
      "cell_type": "code",
      "source": [
        "print(\"Testing Data:\")\n",
        "print(test_df.head())\n",
        "print(test_df.info())"
      ],
      "metadata": {
        "colab": {
          "base_uri": "https://localhost:8080/"
        },
        "id": "pCXIq7367Xvr",
        "outputId": "d56517d6-56d2-4010-fc62-9e1c68e37538"
      },
      "execution_count": 10,
      "outputs": [
        {
          "output_type": "stream",
          "name": "stdout",
          "text": [
            "Testing Data:\n",
            "   id       dur proto service state  spkts  dpkts  sbytes  dbytes  \\\n",
            "0   1  0.000011   udp       -   INT      2      0     496       0   \n",
            "1   2  0.000008   udp       -   INT      2      0    1762       0   \n",
            "2   3  0.000005   udp       -   INT      2      0    1068       0   \n",
            "3   4  0.000006   udp       -   INT      2      0     900       0   \n",
            "4   5  0.000010   udp       -   INT      2      0    2126       0   \n",
            "\n",
            "          rate  ...  ct_dst_sport_ltm  ct_dst_src_ltm  is_ftp_login  \\\n",
            "0   90909.0902  ...                 1               2             0   \n",
            "1  125000.0003  ...                 1               2             0   \n",
            "2  200000.0051  ...                 1               3             0   \n",
            "3  166666.6608  ...                 1               3             0   \n",
            "4  100000.0025  ...                 1               3             0   \n",
            "\n",
            "   ct_ftp_cmd  ct_flw_http_mthd  ct_src_ltm  ct_srv_dst  is_sm_ips_ports  \\\n",
            "0           0                 0           1           2                0   \n",
            "1           0                 0           1           2                0   \n",
            "2           0                 0           1           3                0   \n",
            "3           0                 0           2           3                0   \n",
            "4           0                 0           2           3                0   \n",
            "\n",
            "   attack_cat  label  \n",
            "0      Normal      0  \n",
            "1      Normal      0  \n",
            "2      Normal      0  \n",
            "3      Normal      0  \n",
            "4      Normal      0  \n",
            "\n",
            "[5 rows x 45 columns]\n",
            "<class 'pandas.core.frame.DataFrame'>\n",
            "RangeIndex: 82332 entries, 0 to 82331\n",
            "Data columns (total 45 columns):\n",
            " #   Column             Non-Null Count  Dtype  \n",
            "---  ------             --------------  -----  \n",
            " 0   id                 82332 non-null  int64  \n",
            " 1   dur                82332 non-null  float64\n",
            " 2   proto              82332 non-null  object \n",
            " 3   service            82332 non-null  object \n",
            " 4   state              82332 non-null  object \n",
            " 5   spkts              82332 non-null  int64  \n",
            " 6   dpkts              82332 non-null  int64  \n",
            " 7   sbytes             82332 non-null  int64  \n",
            " 8   dbytes             82332 non-null  int64  \n",
            " 9   rate               82332 non-null  float64\n",
            " 10  sttl               82332 non-null  int64  \n",
            " 11  dttl               82332 non-null  int64  \n",
            " 12  sload              82332 non-null  float64\n",
            " 13  dload              82332 non-null  float64\n",
            " 14  sloss              82332 non-null  int64  \n",
            " 15  dloss              82332 non-null  int64  \n",
            " 16  sinpkt             82332 non-null  float64\n",
            " 17  dinpkt             82332 non-null  float64\n",
            " 18  sjit               82332 non-null  float64\n",
            " 19  djit               82332 non-null  float64\n",
            " 20  swin               82332 non-null  int64  \n",
            " 21  stcpb              82332 non-null  int64  \n",
            " 22  dtcpb              82332 non-null  int64  \n",
            " 23  dwin               82332 non-null  int64  \n",
            " 24  tcprtt             82332 non-null  float64\n",
            " 25  synack             82332 non-null  float64\n",
            " 26  ackdat             82332 non-null  float64\n",
            " 27  smean              82332 non-null  int64  \n",
            " 28  dmean              82332 non-null  int64  \n",
            " 29  trans_depth        82332 non-null  int64  \n",
            " 30  response_body_len  82332 non-null  int64  \n",
            " 31  ct_srv_src         82332 non-null  int64  \n",
            " 32  ct_state_ttl       82332 non-null  int64  \n",
            " 33  ct_dst_ltm         82332 non-null  int64  \n",
            " 34  ct_src_dport_ltm   82332 non-null  int64  \n",
            " 35  ct_dst_sport_ltm   82332 non-null  int64  \n",
            " 36  ct_dst_src_ltm     82332 non-null  int64  \n",
            " 37  is_ftp_login       82332 non-null  int64  \n",
            " 38  ct_ftp_cmd         82332 non-null  int64  \n",
            " 39  ct_flw_http_mthd   82332 non-null  int64  \n",
            " 40  ct_src_ltm         82332 non-null  int64  \n",
            " 41  ct_srv_dst         82332 non-null  int64  \n",
            " 42  is_sm_ips_ports    82332 non-null  int64  \n",
            " 43  attack_cat         82332 non-null  object \n",
            " 44  label              82332 non-null  int64  \n",
            "dtypes: float64(11), int64(30), object(4)\n",
            "memory usage: 28.3+ MB\n",
            "None\n"
          ]
        }
      ]
    },
    {
      "cell_type": "markdown",
      "source": [
        "# 2. Prétraitement des Données"
      ],
      "metadata": {
        "id": "g7F7geWh7u66"
      }
    },
    {
      "cell_type": "code",
      "source": [
        "from sklearn.preprocessing import StandardScaler"
      ],
      "metadata": {
        "id": "ZuOTHX-Q7vvb"
      },
      "execution_count": 11,
      "outputs": []
    },
    {
      "cell_type": "markdown",
      "source": [
        "# Gestion des valeurs manquantes"
      ],
      "metadata": {
        "id": "ZLNL-UwJ8GEY"
      }
    },
    {
      "cell_type": "code",
      "source": [
        "train_df = train_df.dropna()\n",
        "test_df = test_df.dropna()"
      ],
      "metadata": {
        "id": "AkrFeThO8ENi"
      },
      "execution_count": 13,
      "outputs": []
    },
    {
      "cell_type": "code",
      "source": [
        "# Encodage des colonnes catégoriques\n",
        "train_df = pd.get_dummies(train_df, drop_first=True)\n",
        "test_df = pd.get_dummies(test_df, drop_first=True)"
      ],
      "metadata": {
        "id": "kJKS-m8b8kxp"
      },
      "execution_count": 14,
      "outputs": []
    },
    {
      "cell_type": "code",
      "source": [
        "# Aligner les colonnes des deux datasets (important si encodage différent)\n",
        "test_df = test_df.reindex(columns=train_df.columns, fill_value=0)"
      ],
      "metadata": {
        "id": "sXGtR7pJ8-LC"
      },
      "execution_count": 15,
      "outputs": []
    },
    {
      "cell_type": "code",
      "source": [
        "# Séparation des features et de la cible\n",
        "X_train = train_df.iloc[:, :-1]  # Toutes les colonnes sauf la dernière (cible)\n",
        "y_train = train_df.iloc[:, -1]   # Dernière colonne comme cible\n",
        "X_test = test_df.iloc[:, :-1]\n",
        "y_test = test_df.iloc[:, -1]"
      ],
      "metadata": {
        "id": "WW1mtu4N9Fyb"
      },
      "execution_count": 16,
      "outputs": []
    },
    {
      "cell_type": "code",
      "source": [
        "# Standardisation des données\n",
        "scaler = StandardScaler()\n",
        "X_train_scaled = scaler.fit_transform(X_train)\n",
        "X_test_scaled = scaler.transform(X_test)"
      ],
      "metadata": {
        "id": "62I2lDP19M-0"
      },
      "execution_count": 17,
      "outputs": []
    },
    {
      "cell_type": "markdown",
      "source": [
        "#3. Entraînement du Modèle"
      ],
      "metadata": {
        "id": "DKkTdxDl9WdZ"
      }
    },
    {
      "cell_type": "code",
      "source": [
        "from sklearn.svm import SVC\n",
        "\n",
        "# Initialisation et entraînement du modèle SVM\n",
        "model = SVC(kernel='rbf', random_state=42)\n",
        "model.fit(X_train_scaled, y_train)\n"
      ],
      "metadata": {
        "colab": {
          "base_uri": "https://localhost:8080/",
          "height": 80
        },
        "id": "KMXdS1ZL9gkI",
        "outputId": "83478452-f269-4571-b41e-59c7f0557f3c"
      },
      "execution_count": 18,
      "outputs": [
        {
          "output_type": "execute_result",
          "data": {
            "text/plain": [
              "SVC(random_state=42)"
            ],
            "text/html": [
              "<style>#sk-container-id-1 {\n",
              "  /* Definition of color scheme common for light and dark mode */\n",
              "  --sklearn-color-text: #000;\n",
              "  --sklearn-color-text-muted: #666;\n",
              "  --sklearn-color-line: gray;\n",
              "  /* Definition of color scheme for unfitted estimators */\n",
              "  --sklearn-color-unfitted-level-0: #fff5e6;\n",
              "  --sklearn-color-unfitted-level-1: #f6e4d2;\n",
              "  --sklearn-color-unfitted-level-2: #ffe0b3;\n",
              "  --sklearn-color-unfitted-level-3: chocolate;\n",
              "  /* Definition of color scheme for fitted estimators */\n",
              "  --sklearn-color-fitted-level-0: #f0f8ff;\n",
              "  --sklearn-color-fitted-level-1: #d4ebff;\n",
              "  --sklearn-color-fitted-level-2: #b3dbfd;\n",
              "  --sklearn-color-fitted-level-3: cornflowerblue;\n",
              "\n",
              "  /* Specific color for light theme */\n",
              "  --sklearn-color-text-on-default-background: var(--sg-text-color, var(--theme-code-foreground, var(--jp-content-font-color1, black)));\n",
              "  --sklearn-color-background: var(--sg-background-color, var(--theme-background, var(--jp-layout-color0, white)));\n",
              "  --sklearn-color-border-box: var(--sg-text-color, var(--theme-code-foreground, var(--jp-content-font-color1, black)));\n",
              "  --sklearn-color-icon: #696969;\n",
              "\n",
              "  @media (prefers-color-scheme: dark) {\n",
              "    /* Redefinition of color scheme for dark theme */\n",
              "    --sklearn-color-text-on-default-background: var(--sg-text-color, var(--theme-code-foreground, var(--jp-content-font-color1, white)));\n",
              "    --sklearn-color-background: var(--sg-background-color, var(--theme-background, var(--jp-layout-color0, #111)));\n",
              "    --sklearn-color-border-box: var(--sg-text-color, var(--theme-code-foreground, var(--jp-content-font-color1, white)));\n",
              "    --sklearn-color-icon: #878787;\n",
              "  }\n",
              "}\n",
              "\n",
              "#sk-container-id-1 {\n",
              "  color: var(--sklearn-color-text);\n",
              "}\n",
              "\n",
              "#sk-container-id-1 pre {\n",
              "  padding: 0;\n",
              "}\n",
              "\n",
              "#sk-container-id-1 input.sk-hidden--visually {\n",
              "  border: 0;\n",
              "  clip: rect(1px 1px 1px 1px);\n",
              "  clip: rect(1px, 1px, 1px, 1px);\n",
              "  height: 1px;\n",
              "  margin: -1px;\n",
              "  overflow: hidden;\n",
              "  padding: 0;\n",
              "  position: absolute;\n",
              "  width: 1px;\n",
              "}\n",
              "\n",
              "#sk-container-id-1 div.sk-dashed-wrapped {\n",
              "  border: 1px dashed var(--sklearn-color-line);\n",
              "  margin: 0 0.4em 0.5em 0.4em;\n",
              "  box-sizing: border-box;\n",
              "  padding-bottom: 0.4em;\n",
              "  background-color: var(--sklearn-color-background);\n",
              "}\n",
              "\n",
              "#sk-container-id-1 div.sk-container {\n",
              "  /* jupyter's `normalize.less` sets `[hidden] { display: none; }`\n",
              "     but bootstrap.min.css set `[hidden] { display: none !important; }`\n",
              "     so we also need the `!important` here to be able to override the\n",
              "     default hidden behavior on the sphinx rendered scikit-learn.org.\n",
              "     See: https://github.com/scikit-learn/scikit-learn/issues/21755 */\n",
              "  display: inline-block !important;\n",
              "  position: relative;\n",
              "}\n",
              "\n",
              "#sk-container-id-1 div.sk-text-repr-fallback {\n",
              "  display: none;\n",
              "}\n",
              "\n",
              "div.sk-parallel-item,\n",
              "div.sk-serial,\n",
              "div.sk-item {\n",
              "  /* draw centered vertical line to link estimators */\n",
              "  background-image: linear-gradient(var(--sklearn-color-text-on-default-background), var(--sklearn-color-text-on-default-background));\n",
              "  background-size: 2px 100%;\n",
              "  background-repeat: no-repeat;\n",
              "  background-position: center center;\n",
              "}\n",
              "\n",
              "/* Parallel-specific style estimator block */\n",
              "\n",
              "#sk-container-id-1 div.sk-parallel-item::after {\n",
              "  content: \"\";\n",
              "  width: 100%;\n",
              "  border-bottom: 2px solid var(--sklearn-color-text-on-default-background);\n",
              "  flex-grow: 1;\n",
              "}\n",
              "\n",
              "#sk-container-id-1 div.sk-parallel {\n",
              "  display: flex;\n",
              "  align-items: stretch;\n",
              "  justify-content: center;\n",
              "  background-color: var(--sklearn-color-background);\n",
              "  position: relative;\n",
              "}\n",
              "\n",
              "#sk-container-id-1 div.sk-parallel-item {\n",
              "  display: flex;\n",
              "  flex-direction: column;\n",
              "}\n",
              "\n",
              "#sk-container-id-1 div.sk-parallel-item:first-child::after {\n",
              "  align-self: flex-end;\n",
              "  width: 50%;\n",
              "}\n",
              "\n",
              "#sk-container-id-1 div.sk-parallel-item:last-child::after {\n",
              "  align-self: flex-start;\n",
              "  width: 50%;\n",
              "}\n",
              "\n",
              "#sk-container-id-1 div.sk-parallel-item:only-child::after {\n",
              "  width: 0;\n",
              "}\n",
              "\n",
              "/* Serial-specific style estimator block */\n",
              "\n",
              "#sk-container-id-1 div.sk-serial {\n",
              "  display: flex;\n",
              "  flex-direction: column;\n",
              "  align-items: center;\n",
              "  background-color: var(--sklearn-color-background);\n",
              "  padding-right: 1em;\n",
              "  padding-left: 1em;\n",
              "}\n",
              "\n",
              "\n",
              "/* Toggleable style: style used for estimator/Pipeline/ColumnTransformer box that is\n",
              "clickable and can be expanded/collapsed.\n",
              "- Pipeline and ColumnTransformer use this feature and define the default style\n",
              "- Estimators will overwrite some part of the style using the `sk-estimator` class\n",
              "*/\n",
              "\n",
              "/* Pipeline and ColumnTransformer style (default) */\n",
              "\n",
              "#sk-container-id-1 div.sk-toggleable {\n",
              "  /* Default theme specific background. It is overwritten whether we have a\n",
              "  specific estimator or a Pipeline/ColumnTransformer */\n",
              "  background-color: var(--sklearn-color-background);\n",
              "}\n",
              "\n",
              "/* Toggleable label */\n",
              "#sk-container-id-1 label.sk-toggleable__label {\n",
              "  cursor: pointer;\n",
              "  display: flex;\n",
              "  width: 100%;\n",
              "  margin-bottom: 0;\n",
              "  padding: 0.5em;\n",
              "  box-sizing: border-box;\n",
              "  text-align: center;\n",
              "  align-items: start;\n",
              "  justify-content: space-between;\n",
              "  gap: 0.5em;\n",
              "}\n",
              "\n",
              "#sk-container-id-1 label.sk-toggleable__label .caption {\n",
              "  font-size: 0.6rem;\n",
              "  font-weight: lighter;\n",
              "  color: var(--sklearn-color-text-muted);\n",
              "}\n",
              "\n",
              "#sk-container-id-1 label.sk-toggleable__label-arrow:before {\n",
              "  /* Arrow on the left of the label */\n",
              "  content: \"▸\";\n",
              "  float: left;\n",
              "  margin-right: 0.25em;\n",
              "  color: var(--sklearn-color-icon);\n",
              "}\n",
              "\n",
              "#sk-container-id-1 label.sk-toggleable__label-arrow:hover:before {\n",
              "  color: var(--sklearn-color-text);\n",
              "}\n",
              "\n",
              "/* Toggleable content - dropdown */\n",
              "\n",
              "#sk-container-id-1 div.sk-toggleable__content {\n",
              "  max-height: 0;\n",
              "  max-width: 0;\n",
              "  overflow: hidden;\n",
              "  text-align: left;\n",
              "  /* unfitted */\n",
              "  background-color: var(--sklearn-color-unfitted-level-0);\n",
              "}\n",
              "\n",
              "#sk-container-id-1 div.sk-toggleable__content.fitted {\n",
              "  /* fitted */\n",
              "  background-color: var(--sklearn-color-fitted-level-0);\n",
              "}\n",
              "\n",
              "#sk-container-id-1 div.sk-toggleable__content pre {\n",
              "  margin: 0.2em;\n",
              "  border-radius: 0.25em;\n",
              "  color: var(--sklearn-color-text);\n",
              "  /* unfitted */\n",
              "  background-color: var(--sklearn-color-unfitted-level-0);\n",
              "}\n",
              "\n",
              "#sk-container-id-1 div.sk-toggleable__content.fitted pre {\n",
              "  /* unfitted */\n",
              "  background-color: var(--sklearn-color-fitted-level-0);\n",
              "}\n",
              "\n",
              "#sk-container-id-1 input.sk-toggleable__control:checked~div.sk-toggleable__content {\n",
              "  /* Expand drop-down */\n",
              "  max-height: 200px;\n",
              "  max-width: 100%;\n",
              "  overflow: auto;\n",
              "}\n",
              "\n",
              "#sk-container-id-1 input.sk-toggleable__control:checked~label.sk-toggleable__label-arrow:before {\n",
              "  content: \"▾\";\n",
              "}\n",
              "\n",
              "/* Pipeline/ColumnTransformer-specific style */\n",
              "\n",
              "#sk-container-id-1 div.sk-label input.sk-toggleable__control:checked~label.sk-toggleable__label {\n",
              "  color: var(--sklearn-color-text);\n",
              "  background-color: var(--sklearn-color-unfitted-level-2);\n",
              "}\n",
              "\n",
              "#sk-container-id-1 div.sk-label.fitted input.sk-toggleable__control:checked~label.sk-toggleable__label {\n",
              "  background-color: var(--sklearn-color-fitted-level-2);\n",
              "}\n",
              "\n",
              "/* Estimator-specific style */\n",
              "\n",
              "/* Colorize estimator box */\n",
              "#sk-container-id-1 div.sk-estimator input.sk-toggleable__control:checked~label.sk-toggleable__label {\n",
              "  /* unfitted */\n",
              "  background-color: var(--sklearn-color-unfitted-level-2);\n",
              "}\n",
              "\n",
              "#sk-container-id-1 div.sk-estimator.fitted input.sk-toggleable__control:checked~label.sk-toggleable__label {\n",
              "  /* fitted */\n",
              "  background-color: var(--sklearn-color-fitted-level-2);\n",
              "}\n",
              "\n",
              "#sk-container-id-1 div.sk-label label.sk-toggleable__label,\n",
              "#sk-container-id-1 div.sk-label label {\n",
              "  /* The background is the default theme color */\n",
              "  color: var(--sklearn-color-text-on-default-background);\n",
              "}\n",
              "\n",
              "/* On hover, darken the color of the background */\n",
              "#sk-container-id-1 div.sk-label:hover label.sk-toggleable__label {\n",
              "  color: var(--sklearn-color-text);\n",
              "  background-color: var(--sklearn-color-unfitted-level-2);\n",
              "}\n",
              "\n",
              "/* Label box, darken color on hover, fitted */\n",
              "#sk-container-id-1 div.sk-label.fitted:hover label.sk-toggleable__label.fitted {\n",
              "  color: var(--sklearn-color-text);\n",
              "  background-color: var(--sklearn-color-fitted-level-2);\n",
              "}\n",
              "\n",
              "/* Estimator label */\n",
              "\n",
              "#sk-container-id-1 div.sk-label label {\n",
              "  font-family: monospace;\n",
              "  font-weight: bold;\n",
              "  display: inline-block;\n",
              "  line-height: 1.2em;\n",
              "}\n",
              "\n",
              "#sk-container-id-1 div.sk-label-container {\n",
              "  text-align: center;\n",
              "}\n",
              "\n",
              "/* Estimator-specific */\n",
              "#sk-container-id-1 div.sk-estimator {\n",
              "  font-family: monospace;\n",
              "  border: 1px dotted var(--sklearn-color-border-box);\n",
              "  border-radius: 0.25em;\n",
              "  box-sizing: border-box;\n",
              "  margin-bottom: 0.5em;\n",
              "  /* unfitted */\n",
              "  background-color: var(--sklearn-color-unfitted-level-0);\n",
              "}\n",
              "\n",
              "#sk-container-id-1 div.sk-estimator.fitted {\n",
              "  /* fitted */\n",
              "  background-color: var(--sklearn-color-fitted-level-0);\n",
              "}\n",
              "\n",
              "/* on hover */\n",
              "#sk-container-id-1 div.sk-estimator:hover {\n",
              "  /* unfitted */\n",
              "  background-color: var(--sklearn-color-unfitted-level-2);\n",
              "}\n",
              "\n",
              "#sk-container-id-1 div.sk-estimator.fitted:hover {\n",
              "  /* fitted */\n",
              "  background-color: var(--sklearn-color-fitted-level-2);\n",
              "}\n",
              "\n",
              "/* Specification for estimator info (e.g. \"i\" and \"?\") */\n",
              "\n",
              "/* Common style for \"i\" and \"?\" */\n",
              "\n",
              ".sk-estimator-doc-link,\n",
              "a:link.sk-estimator-doc-link,\n",
              "a:visited.sk-estimator-doc-link {\n",
              "  float: right;\n",
              "  font-size: smaller;\n",
              "  line-height: 1em;\n",
              "  font-family: monospace;\n",
              "  background-color: var(--sklearn-color-background);\n",
              "  border-radius: 1em;\n",
              "  height: 1em;\n",
              "  width: 1em;\n",
              "  text-decoration: none !important;\n",
              "  margin-left: 0.5em;\n",
              "  text-align: center;\n",
              "  /* unfitted */\n",
              "  border: var(--sklearn-color-unfitted-level-1) 1pt solid;\n",
              "  color: var(--sklearn-color-unfitted-level-1);\n",
              "}\n",
              "\n",
              ".sk-estimator-doc-link.fitted,\n",
              "a:link.sk-estimator-doc-link.fitted,\n",
              "a:visited.sk-estimator-doc-link.fitted {\n",
              "  /* fitted */\n",
              "  border: var(--sklearn-color-fitted-level-1) 1pt solid;\n",
              "  color: var(--sklearn-color-fitted-level-1);\n",
              "}\n",
              "\n",
              "/* On hover */\n",
              "div.sk-estimator:hover .sk-estimator-doc-link:hover,\n",
              ".sk-estimator-doc-link:hover,\n",
              "div.sk-label-container:hover .sk-estimator-doc-link:hover,\n",
              ".sk-estimator-doc-link:hover {\n",
              "  /* unfitted */\n",
              "  background-color: var(--sklearn-color-unfitted-level-3);\n",
              "  color: var(--sklearn-color-background);\n",
              "  text-decoration: none;\n",
              "}\n",
              "\n",
              "div.sk-estimator.fitted:hover .sk-estimator-doc-link.fitted:hover,\n",
              ".sk-estimator-doc-link.fitted:hover,\n",
              "div.sk-label-container:hover .sk-estimator-doc-link.fitted:hover,\n",
              ".sk-estimator-doc-link.fitted:hover {\n",
              "  /* fitted */\n",
              "  background-color: var(--sklearn-color-fitted-level-3);\n",
              "  color: var(--sklearn-color-background);\n",
              "  text-decoration: none;\n",
              "}\n",
              "\n",
              "/* Span, style for the box shown on hovering the info icon */\n",
              ".sk-estimator-doc-link span {\n",
              "  display: none;\n",
              "  z-index: 9999;\n",
              "  position: relative;\n",
              "  font-weight: normal;\n",
              "  right: .2ex;\n",
              "  padding: .5ex;\n",
              "  margin: .5ex;\n",
              "  width: min-content;\n",
              "  min-width: 20ex;\n",
              "  max-width: 50ex;\n",
              "  color: var(--sklearn-color-text);\n",
              "  box-shadow: 2pt 2pt 4pt #999;\n",
              "  /* unfitted */\n",
              "  background: var(--sklearn-color-unfitted-level-0);\n",
              "  border: .5pt solid var(--sklearn-color-unfitted-level-3);\n",
              "}\n",
              "\n",
              ".sk-estimator-doc-link.fitted span {\n",
              "  /* fitted */\n",
              "  background: var(--sklearn-color-fitted-level-0);\n",
              "  border: var(--sklearn-color-fitted-level-3);\n",
              "}\n",
              "\n",
              ".sk-estimator-doc-link:hover span {\n",
              "  display: block;\n",
              "}\n",
              "\n",
              "/* \"?\"-specific style due to the `<a>` HTML tag */\n",
              "\n",
              "#sk-container-id-1 a.estimator_doc_link {\n",
              "  float: right;\n",
              "  font-size: 1rem;\n",
              "  line-height: 1em;\n",
              "  font-family: monospace;\n",
              "  background-color: var(--sklearn-color-background);\n",
              "  border-radius: 1rem;\n",
              "  height: 1rem;\n",
              "  width: 1rem;\n",
              "  text-decoration: none;\n",
              "  /* unfitted */\n",
              "  color: var(--sklearn-color-unfitted-level-1);\n",
              "  border: var(--sklearn-color-unfitted-level-1) 1pt solid;\n",
              "}\n",
              "\n",
              "#sk-container-id-1 a.estimator_doc_link.fitted {\n",
              "  /* fitted */\n",
              "  border: var(--sklearn-color-fitted-level-1) 1pt solid;\n",
              "  color: var(--sklearn-color-fitted-level-1);\n",
              "}\n",
              "\n",
              "/* On hover */\n",
              "#sk-container-id-1 a.estimator_doc_link:hover {\n",
              "  /* unfitted */\n",
              "  background-color: var(--sklearn-color-unfitted-level-3);\n",
              "  color: var(--sklearn-color-background);\n",
              "  text-decoration: none;\n",
              "}\n",
              "\n",
              "#sk-container-id-1 a.estimator_doc_link.fitted:hover {\n",
              "  /* fitted */\n",
              "  background-color: var(--sklearn-color-fitted-level-3);\n",
              "}\n",
              "</style><div id=\"sk-container-id-1\" class=\"sk-top-container\"><div class=\"sk-text-repr-fallback\"><pre>SVC(random_state=42)</pre><b>In a Jupyter environment, please rerun this cell to show the HTML representation or trust the notebook. <br />On GitHub, the HTML representation is unable to render, please try loading this page with nbviewer.org.</b></div><div class=\"sk-container\" hidden><div class=\"sk-item\"><div class=\"sk-estimator fitted sk-toggleable\"><input class=\"sk-toggleable__control sk-hidden--visually\" id=\"sk-estimator-id-1\" type=\"checkbox\" checked><label for=\"sk-estimator-id-1\" class=\"sk-toggleable__label fitted sk-toggleable__label-arrow\"><div><div>SVC</div></div><div><a class=\"sk-estimator-doc-link fitted\" rel=\"noreferrer\" target=\"_blank\" href=\"https://scikit-learn.org/1.6/modules/generated/sklearn.svm.SVC.html\">?<span>Documentation for SVC</span></a><span class=\"sk-estimator-doc-link fitted\">i<span>Fitted</span></span></div></label><div class=\"sk-toggleable__content fitted\"><pre>SVC(random_state=42)</pre></div> </div></div></div></div>"
            ]
          },
          "metadata": {},
          "execution_count": 18
        }
      ]
    },
    {
      "cell_type": "markdown",
      "source": [
        "#4.Évaluation et Visualisation des Résultats"
      ],
      "metadata": {
        "id": "wJ595XQH9-Yu"
      }
    },
    {
      "cell_type": "code",
      "source": [
        "# Prédictions sur le dataset de test\n",
        "y_pred = model.predict(X_test_scaled)\n",
        "\n",
        "# Rapport de classification\n",
        "print(\"Rapport de Classification :\\n\", classification_report(y_test, y_pred))\n"
      ],
      "metadata": {
        "colab": {
          "base_uri": "https://localhost:8080/"
        },
        "id": "uqeeofeTKFbD",
        "outputId": "49336e4e-56a6-47c5-9a14-be8470126ff7"
      },
      "execution_count": 20,
      "outputs": [
        {
          "output_type": "stream",
          "name": "stdout",
          "text": [
            "Rapport de Classification :\n",
            "               precision    recall  f1-score   support\n",
            "\n",
            "       False       1.00      1.00      1.00     82288\n",
            "        True       1.00      0.77      0.87        44\n",
            "\n",
            "    accuracy                           1.00     82332\n",
            "   macro avg       1.00      0.89      0.94     82332\n",
            "weighted avg       1.00      1.00      1.00     82332\n",
            "\n"
          ]
        }
      ]
    },
    {
      "cell_type": "markdown",
      "source": [
        "Voici une interprétation des résultats présentés dans le **rapport de classification** :\n",
        "\n",
        "### **1. Métriques clés**\n",
        "- **Precision** (Précision) :\n",
        "  - Elle indique la proportion de prédictions positives correctes.\n",
        "  - Pour la classe `False` : 1.00 (toutes les prédictions pour cette classe étaient correctes).\n",
        "  - Pour la classe `True` : 1.00 (même si peu de cas positifs sont présents, le modèle n'a pas généré de faux positifs).\n",
        "\n",
        "- **Recall** (Rappel ou Sensibilité) :\n",
        "  - Indique la capacité du modèle à identifier tous les exemples pertinents (positifs).\n",
        "  - Pour la classe `False` : 1.00, parfait.\n",
        "  - Pour la classe `True` : 0.77, signifiant que 77 % des cas réels positifs ont été détectés. Cela peut refléter un manque de capacité à identifier certains cas rares.\n",
        "\n",
        "- **F1-Score** :\n",
        "  - La moyenne harmonique entre la précision et le rappel.\n",
        "  - Classe `False` : 1.00, excellent.\n",
        "  - Classe `True` : 0.87, ce qui est raisonnable compte tenu de la faible proportion de données dans cette classe.\n",
        "\n",
        "---\n",
        "\n",
        "### **2. Accuracy (Exactitude)**\n",
        "- **Accuracy globale** : 1.00 (ou 100 %).\n",
        "  - Cela signifie que le modèle a correctement prédit la quasi-totalité des exemples du dataset.\n",
        "\n",
        "---\n",
        "\n",
        "### **3. Macro Avg et Weighted Avg**\n",
        "- **Macro Average** :\n",
        "  - Moyenne non pondérée des scores pour toutes les classes. Elle est de **0.94** pour le F1-score, ce qui montre que la performance sur les classes est globalement bonne, mais pondérée par les déséquilibres (peu de cas `True`).\n",
        "  \n",
        "- **Weighted Average** :\n",
        "  - Moyenne pondérée des scores basée sur le nombre d'exemples dans chaque classe. Pour le dataset très déséquilibré (beaucoup de `False`, peu de `True`), elle reste excellente, proche de 1.00.\n",
        "\n",
        "---\n",
        "\n",
        "### **4. Analyse**\n",
        "- Le modèle est **très performant pour la classe majoritaire (False)**, avec une précision et un rappel parfaits.\n",
        "- Cependant, il **présente des limites dans la détection de la classe minoritaire (True)**, car le rappel est de 0.77. Cela peut indiquer que certaines données positives passent inaperçues.\n",
        "- Ce déséquilibre pourrait être corrigé en :\n",
        "  - Utilisant un **échantillonnage équilibré** (ex. : suréchantillonner les cas `True`).\n",
        "  - Appliquant des techniques de pondération pour accorder plus d'importance à la classe `True`.\n",
        "\n",
        "Ces résultats montrent que le modèle fonctionne bien globalement, mais qu'il mérite des ajustements si les cas rares (`True`) sont critiques à détecter. Besoin d'explorer des améliorations ? 😊"
      ],
      "metadata": {
        "id": "oEg6-bB7KmV6"
      }
    },
    {
      "cell_type": "code",
      "source": [
        "# Matrice de confusion\n",
        "conf_matrix = confusion_matrix(y_test, y_pred)\n",
        "print(\"Matrice de Confusion :\\n\", conf_matrix)"
      ],
      "metadata": {
        "colab": {
          "base_uri": "https://localhost:8080/"
        },
        "id": "3FwTYgg4KufL",
        "outputId": "9cbc88c3-7e78-46d1-e1ea-9a253dafd9fb"
      },
      "execution_count": 21,
      "outputs": [
        {
          "output_type": "stream",
          "name": "stdout",
          "text": [
            "Matrice de Confusion :\n",
            " [[82288     0]\n",
            " [   10    34]]\n"
          ]
        }
      ]
    },
    {
      "cell_type": "markdown",
      "source": [
        "Classe False (Majoritaire) :\n",
        "\n",
        "Le modèle fonctionne parfaitement pour cette classe avec 82288 vrais négatifs.\n",
        "\n",
        "Aucun faux positif, ce qui indique que les prédictions pour cette classe sont extrêmement fiables.\n",
        "\n",
        "Classe True (Minoritaire) :\n",
        "\n",
        "Seulement 34 vrais positifs détectés correctement.\n",
        "\n",
        "10 faux négatifs : Cela signifie que 10 cas qui devaient être détectés comme True ont été manqués.\n",
        "\n",
        "Performance Générale :\n",
        "\n",
        "Le modèle est très performant pour la classe majoritaire (classe False), mais il montre des difficultés à capturer les exemples de la classe minoritaire (True).\n",
        "\n",
        "Cela peut être dû à un déséquilibre des données, car la classe True est significativement sous-représentée dans le dataset."
      ],
      "metadata": {
        "id": "26SvCCTCK-tj"
      }
    },
    {
      "cell_type": "code",
      "source": [
        "# Visualisation de la matrice de confusion\n",
        "sns.heatmap(conf_matrix, annot=True, fmt='d', cmap='Blues')\n",
        "plt.title(\"Matrice de Confusion\")\n",
        "plt.xlabel(\"Prédictions\")\n",
        "plt.ylabel(\"Valeurs Réelles\")\n",
        "plt.show()"
      ],
      "metadata": {
        "colab": {
          "base_uri": "https://localhost:8080/",
          "height": 472
        },
        "id": "Wygi6DpvK_lb",
        "outputId": "80d06d81-f795-4a6e-af3f-08c6ba519c00"
      },
      "execution_count": 22,
      "outputs": [
        {
          "output_type": "display_data",
          "data": {
            "text/plain": [
              "<Figure size 640x480 with 2 Axes>"
            ],
            "image/png": "[encoded data removed]"
          },
          "metadata": {}
        }
      ]
    }
  ]
}